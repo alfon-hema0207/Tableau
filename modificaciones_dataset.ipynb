{
 "cells": [
  {
   "cell_type": "code",
   "execution_count": 4,
   "id": "ff382f37-80d3-479a-aba7-862c6a79b7e2",
   "metadata": {},
   "outputs": [
    {
     "name": "stderr",
     "output_type": "stream",
     "text": [
      "\n",
      "[notice] A new release of pip is available: 25.0.1 -> 25.1.1\n",
      "[notice] To update, run: python.exe -m pip install --upgrade pip\n"
     ]
    },
    {
     "name": "stdout",
     "output_type": "stream",
     "text": [
      "Collecting unidecode\n",
      "  Downloading Unidecode-1.4.0-py3-none-any.whl.metadata (13 kB)\n",
      "Downloading Unidecode-1.4.0-py3-none-any.whl (235 kB)\n",
      "Installing collected packages: unidecode\n",
      "Successfully installed unidecode-1.4.0\n"
     ]
    }
   ],
   "source": [
    "!pip install unidecode\n",
    "import pandas as pd\n",
    "import random\n",
    "import unidecode\n",
    "\n",
    "# Carga tu dataset\n",
    "df = pd.read_csv('dataset.csv')  # Cambia por tu archivo real\n",
    "\n",
    "# Lista de ciudades y estados, sin caracteres especiales\n",
    "cities_states = [\n",
    "    (\"Ciudad de Mexico\", \"CDMX\"), (\"Guadalajara\", \"Jalisco\"), (\"Monterrey\", \"Nuevo Leon\"),\n",
    "    (\"Puebla\", \"Puebla\"), (\"Tijuana\", \"Baja California\"), (\"Leon\", \"Guanajuato\"),\n",
    "    (\"Zapopan\", \"Jalisco\"), (\"San Luis Potosi\", \"San Luis Potosi\"), (\"Merida\", \"Yucatan\"),\n",
    "    (\"Queretaro\", \"Queretaro\"), (\"Chihuahua\", \"Chihuahua\"), (\"Aguascalientes\", \"Aguascalientes\"),\n",
    "    (\"Saltillo\", \"Coahuila\"), (\"Culiacan\", \"Sinaloa\"), (\"Toluca\", \"Estado de Mexico\"),\n",
    "    (\"Morelia\", \"Michoacan\"), (\"Tampico\", \"Tamaulipas\"), (\"Cancun\", \"Quintana Roo\"),\n",
    "    (\"Durango\", \"Durango\"), (\"Villahermosa\", \"Tabasco\"), (\"Hermosillo\", \"Sonora\"),\n",
    "    (\"Mexicali\", \"Baja California\"), (\"Tuxtla Gutierrez\", \"Chiapas\"), (\"Xalapa\", \"Veracruz\"),\n",
    "    (\"Acapulco\", \"Guerrero\"), (\"Irapuato\", \"Guanajuato\"), (\"Mazatlan\", \"Sinaloa\"),\n",
    "    (\"La Paz\", \"Baja California Sur\"), (\"Campeche\", \"Campeche\"), (\"Colima\", \"Colima\"),\n",
    "    (\"Tlaxcala\", \"Tlaxcala\"), (\"Oaxaca\", \"Oaxaca\"), (\"Tepic\", \"Nayarit\"),\n",
    "    (\"Celaya\", \"Guanajuato\"), (\"Uruapan\", \"Michoacan\"), (\"Matamoros\", \"Tamaulipas\"),\n",
    "    (\"Reynosa\", \"Tamaulipas\"), (\"Ensenada\", \"Baja California\"), (\"Coatzacoalcos\", \"Veracruz\"),\n",
    "    (\"Nuevo Laredo\", \"Tamaulipas\")\n",
    "]\n",
    "\n",
    "# Puedes definir pesos manualmente para sesgar la distribución\n",
    "# Ejemplo: ciudades grandes tienen mayor peso\n",
    "weights = [\n",
    "    10, 9, 8, 7, 6, 6, 6, 5, 5, 5, 4, 4,\n",
    "    4, 3, 3, 3, 3, 3, 3, 3, 2, 2, 2, 2,\n",
    "    2, 2, 2, 2, 2, 2, 2, 2, 2, 2, 2, 2,\n",
    "    2, 2, 2, 2\n",
    "]\n",
    "\n",
    "# Selección aleatoria ponderada\n",
    "selected = random.choices(cities_states, weights=weights, k=len(df))\n",
    "df[\"city\"] = [city for city, _ in selected]\n",
    "df[\"state\"] = [state for _, state in selected]\n",
    "\n",
    "# Guardar el nuevo dataset\n",
    "df.to_csv(\"dataset_nuevo.csv\", index=False)"
   ]
  },
  {
   "cell_type": "code",
   "execution_count": null,
   "id": "f682d099-7e83-42c3-be5a-9f29ae55bcda",
   "metadata": {},
   "outputs": [],
   "source": []
  }
 ],
 "metadata": {
  "kernelspec": {
   "display_name": "Python 3 (ipykernel)",
   "language": "python",
   "name": "python3"
  },
  "language_info": {
   "codemirror_mode": {
    "name": "ipython",
    "version": 3
   },
   "file_extension": ".py",
   "mimetype": "text/x-python",
   "name": "python",
   "nbconvert_exporter": "python",
   "pygments_lexer": "ipython3",
   "version": "3.13.2"
  }
 },
 "nbformat": 4,
 "nbformat_minor": 5
}
